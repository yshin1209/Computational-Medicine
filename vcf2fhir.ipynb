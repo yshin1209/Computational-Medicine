# vcf2fhir
# 신용준 2021

import json

with open("Sample.vcf", "r") as file:
  next(file)  # 첫번째 줄 건너뜀
  for line in file:
      line_list = line.split()    # 줄을 리스트로 변환
      print (line_list)           # 리스트로 변환된 줄을 출력 
      fhir =  {                   # fhir는 python object (json이 아닌)
                "code":
                {
                  "codeing":
                  [
                    {
                      "system":"http://loinc.org",
                      "code": "69551-0",
                      "display": "Alt allele"
                    }
                  ]
                },
                "valueString": line_list[4]     # vcf로부터 Alt allele (line_list[4]) 입력
              }
      fhir_json = json.dumps(fhir, indent = 2)  # fhir를 json으로 변환  
      print (fhir_json)                         # json으로 변환된 fhir 출력


